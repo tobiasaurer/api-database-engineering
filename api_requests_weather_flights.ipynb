{
 "cells": [
  {
   "cell_type": "code",
   "execution_count": 1,
   "metadata": {},
   "outputs": [],
   "source": [
    "import pandas as pd\n",
    "import requests\n",
    "from datetime import datetime, timedelta, date, time\n",
    "import matplotlib.pyplot as plt \n",
    "import json\n",
    "import api_keys"
   ]
  },
  {
   "cell_type": "markdown",
   "metadata": {},
   "source": [
    "### Define function to get weather data for chosen cities"
   ]
  },
  {
   "cell_type": "code",
   "execution_count": 7,
   "metadata": {},
   "outputs": [],
   "source": [
    "def get_weather(city_list):\n",
    "    \n",
    "    # define two empty lists that will store the data to be concatenated into two output dataframes at the end of the function\n",
    "    forecast_data_list = []\n",
    "    city_data_list = []\n",
    "\n",
    "    for city in city_list:\n",
    "        url = f'http://api.openweathermap.org/data/2.5/forecast?q={city}&appid={api_keys.openweather_api_key}&units=metric'\n",
    "        response = requests.get(url)\n",
    "        weather = response.json()\n",
    "\n",
    "        # get information on city and store it for output to city_data table\n",
    "        city_df = pd.json_normalize(weather['city']).rename(columns= {'id': 'city_id', 'name': 'city_name'}).drop(columns= ['sunset', 'sunrise'])\n",
    "        city_data_list.append(city_df)\n",
    "\n",
    "        # get weather forecast information (numerical) and outlook on sky (strings)\n",
    "        weather_forecast_words = []\n",
    "        for i in range(len(weather['list'])):\n",
    "            weather_forecast = pd.json_normalize(weather['list'][i])\n",
    "            weather_words = pd.json_normalize(weather['list'][i]['weather'])\n",
    "            weather_forecast_words.append(pd.concat([weather_forecast, weather_words], axis= 1))\n",
    "        \n",
    "        # concatenate city information (unique identifiers city_id and city_name) and forecast data to allow for easy merging of city and weather data\n",
    "        combined_forecast_cityname = []\n",
    "        weather_df = pd.json_normalize(weather)\n",
    "        cols = ['city.id', 'city.name', 'city.sunrise', 'city.sunset']\n",
    "\n",
    "        for forecast in weather_forecast_words:\n",
    "            combined_forecast_cityname.append(pd.concat([weather_df[cols], forecast], axis= 1))\n",
    "        \n",
    "        forecast_df = pd.concat(combined_forecast_cityname)\n",
    "        forecast_data_list.append(forecast_df)\n",
    "\n",
    "    # clean the resulting data by removing uninteresting columns and renaming all others to be more descriptive\n",
    "    forecast_df = pd.concat(forecast_data_list).drop(columns= ['weather', 'main.temp_kf', 'icon'])\n",
    "    forecast_df.columns = (['city_id', 'city_name', 'sunrise', 'sunset', 'timestamp', 'avg_visibility_m', \n",
    "        'precipitation_probability', 'date_and_time', 'temp', 'felt_temp', 'min_temp', 'max_temp', 'pressure', \n",
    "        'pressure_sea_lvl', 'pressure_ground_lvl', 'humidity_perc', 'cloudiness_perc', 'wind_speed_m_per_sec', \n",
    "        'wind_direction_degrees', 'wind_gust_m_per_sec', 'night_or_day', 'outlook_id', 'outlook_short', 'outlook_long', \n",
    "        'rain_vol_last_3_hrs'])\n",
    "\n",
    "    # convert date and time column to datetime\n",
    "    forecast_df['date_and_time'] = pd.to_datetime(forecast_df['date_and_time'])\n",
    "\n",
    "    # return two dataframes: \n",
    "    # 1. forecast containing weather information\n",
    "    # 2. city containing city information\n",
    "    return forecast_df, pd.concat(city_data_list)"
   ]
  },
  {
   "cell_type": "markdown",
   "metadata": {},
   "source": [
    "### Define function to check airports for each city and get icaos"
   ]
  },
  {
   "cell_type": "code",
   "execution_count": 9,
   "metadata": {},
   "outputs": [],
   "source": [
    "def get_airport_dict(city_list):\n",
    "    icao_list = []\n",
    "    airport_name_list = []\n",
    "    city_name_list = []\n",
    "\n",
    "    for city in city_list:\n",
    "        url = \"https://aerodatabox.p.rapidapi.com/airports/search/term\"\n",
    "\n",
    "        querystring = {\"q\":f\"{city}\",\"limit\":\"10\"}\n",
    "\n",
    "        headers = {\n",
    "            'X-RapidAPI-Key': api_keys.aerodatabox_api_key,\n",
    "            'X-RapidAPI-Host': api_keys.aerodatabox_host\n",
    "        }\n",
    "\n",
    "        response = requests.request(\"GET\", url, headers=headers, params=querystring)\n",
    "        airports = response.json()\n",
    "\n",
    "        for airport in airports['items']:\n",
    "            icao_list.append(airport['icao'])\n",
    "            airport_name_list.append(airport['name'])\n",
    "            city_name_list.append(city)\n",
    "    \n",
    "    airport_city_name_list = list(map(list, zip(airport_name_list, city_name_list)))\n",
    "    airport_dict = dict(zip(icao_list, airport_city_name_list))\n",
    "\n",
    "    return airport_dict"
   ]
  },
  {
   "cell_type": "markdown",
   "metadata": {},
   "source": [
    "### Define function to get timestamps for the next day between 8 AM and 8 PM"
   ]
  },
  {
   "cell_type": "code",
   "execution_count": 10,
   "metadata": {},
   "outputs": [],
   "source": [
    "def get_timestamps():\n",
    "\n",
    "    # get timestamp in correct format for tomorrow 8 AM until 8 PM\n",
    "    date_tomorrow = date.today() + timedelta(days=1)\n",
    "    time_start = time(hour=8, minute=0, second=0)\n",
    "    time_end = time(hour=20, minute=0, second=0)\n",
    "\n",
    "    datetime_start = datetime.combine(date_tomorrow, time_start).strftime('%Y-%m-%dT%H:%M')\n",
    "    datetime_end = datetime.combine(date_tomorrow, time_end).strftime('%Y-%m-%dT%H:%M')\n",
    "\n",
    "    return datetime_start, datetime_end"
   ]
  },
  {
   "cell_type": "markdown",
   "metadata": {},
   "source": [
    "### Make api-call to receive flight-data"
   ]
  },
  {
   "cell_type": "code",
   "execution_count": 11,
   "metadata": {},
   "outputs": [],
   "source": [
    "# make api call to receive flight information\n",
    "def get_flight_data(airport_dict, datetime_start, datetime_end):\n",
    "\n",
    "    flight_data_df_list = []\n",
    "\n",
    "    for icao in airport_dict.keys():\n",
    "        \n",
    "        url = f\"https://aerodatabox.p.rapidapi.com/flights/airports/icao/{icao}/{datetime_start}/{datetime_end}\"\n",
    "\n",
    "        querystring = {\"withLeg\":\"false\",\"direction\":\"Arrival\",\"withCancelled\":\"false\",\"withCodeshared\":\"false\",\"withCargo\":\"false\",\"withPrivate\":\"false\",\"withLocation\":\"false\"}\n",
    "\n",
    "        headers = {\n",
    "            'X-RapidAPI-Key': api_keys.aerodatabox_api_key,\n",
    "            'X-RapidAPI-Host': api_keys.aerodatabox_host\n",
    "        }\n",
    "\n",
    "        response = requests.request(\"GET\", url, headers=headers, params=querystring)\n",
    "        \n",
    "        # catch errors - if response code is not good, icao is skipped\n",
    "        if response.status_code != 200:\n",
    "            continue\n",
    "\n",
    "        arrivals = response.json()\n",
    "\n",
    "        # catch errors - if data received from api is empty, icao is skipped\n",
    "        if not arrivals['arrivals']:\n",
    "            continue\n",
    "        \n",
    "        print(icao, 'is being processed.')\n",
    "        flight_data_df = pd.json_normalize(arrivals['arrivals']).sort_values(by='movement.scheduledTimeLocal')\n",
    "\n",
    "        # standardize df\n",
    "        cols_to_keep = ['number', 'movement.airport.icao', 'movement.airport.iata',\n",
    "        'movement.airport.name', 'movement.scheduledTimeLocal', 'movement.scheduledTimeUtc', \n",
    "        'airline.name']\n",
    "        flight_data_df = flight_data_df[cols_to_keep]\n",
    "        flight_data_df.rename(columns= {'number':'flight_id', 'movement.airport.icao':'origin_icao', 'movement.airport.iata':'origin_iata',\n",
    "        'movement.airport.name':'origin_airport', 'movement.scheduledTimeLocal':'scheduled_time_local', 'movement.scheduledTimeUtc':'scheduled_time_utc', \n",
    "        'airline.name':'airline'}, inplace=True)\n",
    "        flight_data_df['arrival_airport_name'] = airport_dict[icao][0]\n",
    "        flight_data_df['city_name'] = airport_dict[icao][1]        \n",
    "        flight_data_df_list.append(flight_data_df)\n",
    "\n",
    "    flight_data_df = pd.concat(flight_data_df_list)\n",
    "    return flight_data_df"
   ]
  },
  {
   "cell_type": "markdown",
   "metadata": {},
   "source": [
    "### Execute functions"
   ]
  },
  {
   "cell_type": "code",
   "execution_count": 12,
   "metadata": {},
   "outputs": [
    {
     "name": "stdout",
     "output_type": "stream",
     "text": [
      "EDDB is being processed.\n",
      "EGSS is being processed.\n",
      "EGLL is being processed.\n",
      "EGLC is being processed.\n",
      "EGKK is being processed.\n",
      "EGGW is being processed.\n",
      "FAEL is being processed.\n",
      "CYXU is being processed.\n",
      "KLGA is being processed.\n",
      "KJFK is being processed.\n"
     ]
    }
   ],
   "source": [
    "# choose cities of interest and get weather information for each city\n",
    "city_list = ['Berlin', 'London', 'New York']\n",
    "forecast_data, city_data = get_weather(city_list)\n",
    "airport_dict = get_airport_dict(city_list)\n",
    "datetime_start, datetime_end = get_timestamps()\n",
    "flight_data = get_flight_data(airport_dict, datetime_start, datetime_end)"
   ]
  },
  {
   "cell_type": "markdown",
   "metadata": {},
   "source": [
    "### Export data to .csv"
   ]
  },
  {
   "cell_type": "code",
   "execution_count": 13,
   "metadata": {},
   "outputs": [],
   "source": [
    "forecast_data.to_csv(R'data/weather_forecast.csv')\n",
    "city_data.to_csv(R'data/city_info.csv')\n",
    "flight_data.to_csv(R'data/flight_data.csv')"
   ]
  }
 ],
 "metadata": {
  "kernelspec": {
   "display_name": "Python 3.9.5",
   "language": "python",
   "name": "python3"
  },
  "language_info": {
   "codemirror_mode": {
    "name": "ipython",
    "version": 3
   },
   "file_extension": ".py",
   "mimetype": "text/x-python",
   "name": "python",
   "nbconvert_exporter": "python",
   "pygments_lexer": "ipython3",
   "version": "3.9.5"
  },
  "orig_nbformat": 4,
  "vscode": {
   "interpreter": {
    "hash": "f32269641e17bf27d9ca909c2404938da1b1b2df6b9d3f5a88a1b877c863c5b8"
   }
  }
 },
 "nbformat": 4,
 "nbformat_minor": 2
}
